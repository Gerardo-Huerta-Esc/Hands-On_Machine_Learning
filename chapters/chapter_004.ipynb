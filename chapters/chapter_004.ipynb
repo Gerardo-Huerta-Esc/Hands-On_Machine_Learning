{
 "cells": [
  {
   "cell_type": "markdown",
   "metadata": {},
   "source": [
    "# Chapter 4 - Training Models"
   ]
  },
  {
   "cell_type": "markdown",
   "metadata": {},
   "source": [
    "MSE(θ) -> MSE(x,h_θ)\n",
    "\n",
    "\n",
    "Palabras para este capítulo:\n",
    "tweaks - ajustes\n",
    "several - varias/varios\n",
    "still - aún\n",
    "switching  - transpuesta\n",
    "setting - configuración\n",
    "performs - realiza\n",
    "straightforward - sencillo"
   ]
  },
  {
   "cell_type": "markdown",
   "metadata": {},
   "source": [
    "## Setup"
   ]
  },
  {
   "cell_type": "code",
   "execution_count": 1,
   "metadata": {},
   "outputs": [],
   "source": [
    "import sys\n",
    "\n",
    "assert sys.version_info >= (3, 7)"
   ]
  },
  {
   "cell_type": "code",
   "execution_count": 2,
   "metadata": {},
   "outputs": [],
   "source": [
    "from packaging import version\n",
    "import sklearn\n",
    "\n",
    "assert version.parse(sklearn.__version__) >= version.parse(\"1.0.1\")"
   ]
  },
  {
   "cell_type": "code",
   "execution_count": 3,
   "metadata": {},
   "outputs": [],
   "source": [
    "import matplotlib.pyplot as plt\n",
    "\n",
    "plt.rc('font', size=14)\n",
    "plt.rc('axes', labelsize=14, titlesize=14)\n",
    "plt.rc('legend', fontsize=14)\n",
    "plt.rc('xtick', labelsize=10)\n",
    "plt.rc('ytick', labelsize=10)"
   ]
  },
  {
   "cell_type": "code",
   "execution_count": 4,
   "metadata": {},
   "outputs": [],
   "source": [
    "# Creamos un folder para guardar las imágenes generadas (si es que no existe ya), y definimos la función save_fig() \n",
    "# que se utilizará para guardar las imágenes\n",
    "from pathlib import Path\n",
    "\n",
    "IMAGES_PATH = Path() / \"images\" / \"training_linear_models\"\n",
    "IMAGES_PATH.mkdir(parents=True, exist_ok=True)\n",
    "\n",
    "def save_fig(fig_id, tight_layout=True, fig_extension=\"png\", resolution=300):\n",
    "    path = IMAGES_PATH / f\"{fig_id}.{fig_extension}\"\n",
    "    if tight_layout:\n",
    "        plt.tight_layout()\n",
    "    plt.savefig(path, format=fig_extension, dpi=resolution)"
   ]
  },
  {
   "cell_type": "markdown",
   "metadata": {},
   "source": [
    "## Regresión Lineal"
   ]
  },
  {
   "cell_type": "markdown",
   "metadata": {},
   "source": [
    "Estudiaremos la regresión lineal. Uno de los algoritmos más simples. Se abordará de dos métodos de entrenamientos muy distintos:\n",
    "- Utilizando una ecuación cerrada (closet-form equation) la cual calcula los parámetros del modelo que más se ajustan a los datos de entrenamiento (es decir, los parámetros del modelo que minimizan la función de costo sobre el conjunto de entrenamiento)\n",
    "- Usando el Descenso del Gradiente (Gradient Descent \"GD\") el cual ajusta gradualmente los parámetros del modelo para minimizar la función de costo sobre el conjunto de entrenamiento. Eventualmente este método converge al mismo conjunto de parámetros que el primer método.\n",
    "\n",
    "Después revisaremos la Regresión Polinómica, un modelo más complejo que puede abordar datos no lineales. Ya que este modelo tiene más parámetros que el modelo de Regresión Lineal, es más propenso a sobre ajustarse a los datos de entrenamiento. Por lo que estaremos aprendiendo a detectar si este es el caso o no, usando curvas de aprendizaje (learning curves), y después veremos varias técnicas de regularización que pueden reducir el riezgo de sobre ajuste en los datos de entrenamiento."
   ]
  },
  {
   "cell_type": "markdown",
   "metadata": {},
   "source": [
    "De manera general, un modelo lineal hace una predicción calculando la suma ponderada de las características de entreda, mas una constante llamada término de sesgo (o término de intersección)\n",
    "\n",
    "$$\\hat{y} = \\theta_0 + \\theta_1 x_1 + \\theta_2 x_2 + ... + \\theta_n x_n$$\n",
    "\n",
    "- $\\hat{y}$ es el valor predicho.\n",
    "\n",
    "- $n$ es el número de características.\n",
    "\n",
    "- $x_i$ es el valor de la característica $i^{th}$.\n",
    "\n",
    "- $\\theta_j$ es el parémetro del modelo  $j^{th}$ (incluido el término de sesgo $\\theta_0$ y la característica de pesos $\\theta_1 + \\theta_2 + ,..., + \\theta_n$)\n",
    "\n",
    "Esto puede escribirse de una forma más concisa usando la notación vectorial:\n",
    "\n",
    "\n",
    "\n",
    "$$\n",
    "\\hat{y} = h_{\\theta}(x) = \\mathbf{\\theta} \\cdot \\mathbf{x}\n",
    "$$\n",
    "(no se aprecia bien, pero $\\theta$ está en negrita porque es un vector, igual que $\\mathbf{x}$)\n",
    "\n",
    "En esta ecuación:\n",
    "- $\\mathbf{\\theta}$ es el vector de parámetros del modelo, que contiene el término de sesgo $\\theta_0$ y los pesos de las características $\\theta_1$ a $\\theta_n$.\n",
    "- $\\mathbf{x}$ es el vector de características de la instancia, que contiene $x_0$ a $x_n$, con $x_0$ siempre igual a 1.\n",
    "- $\\mathbf{\\theta} \\cdot \\mathbf{x}$ es el producto punto de los vectores $\\theta$ y $\\mathbf{x}$, que por supuesto es igual a $\\theta_0 x_0 + \\theta_1 x_1 + \\theta_2 x_2 + \\cdots + \\theta_n x_n$.\n",
    "- $h_{\\mathbf{\\theta}}$ es la función de hipótesis, usando los parámetros del modelo $\\theta$.\n",
    "\n",
    "En machine learning, una función de hipótesis es una función matemática que representa el modelo que estás utilizando para hacer predicciones, es fundamental porque dedine cómo el modelo transforma las entradas en predicciones. En otras palabras, la función de hipótesis $ h_{\\theta}(x)$ utiliza los parámetros $\\theta$ y los valores de las características $\\mathbf{x}$ para calcular la predicción de la salida.\n"
   ]
  },
  {
   "cell_type": "markdown",
   "metadata": {},
   "source": [
    "OK, ese es el modelo de Regresión Lineal, pero ¿cómo lo entrenamos? Bueno, recordemos que entrenar un modelo significa ajustar sus parámetros para que el modelo se ajuste mejor al conjunto de entrenamiento. Para este propósito, primero necesitamos una medida de qué tan bien (o mal) el modelo se ajusta a los datos de entrenamiento. En el Capítulo 2 vimos que la medida de rendimiento más común de un modelo de regresión es el Error Cuadrático Medio de la raíz $^{\\textbf{[1]}}$ (Root Mean Square Error: RMSE). Por lo tanto, para entrenar un modelo de Regresión Lineal, necesitamos encontrar el valor de $\\theta$ que minimice el RMSE. En la práctica, es más sencillo minimizar el error cuadrático medio (MSE) que el RMSE, y conduce al mismo resultado (porque el valor que minimiza una función también minimiza su raíz cuadrada).\n",
    "\n",
    "El MSE de una hipótesis de Regresión Lineal $ h_\\theta(x) $ en un conjunto de entrenamiento $\\mathbf{X}$ se calcula usando la siguiente ecuación.\n",
    "\n",
    "$$\n",
    "\\text{MSE}(X, h_{\\theta}) = \\frac{1}{m} \\sum_{i=1}^{m} (\\theta^\\top x^{(i)} - y^{(i)})^2\n",
    "$$\n",
    "\n",
    "\n",
    "### La Ecuación Normal\n",
    "Para encontrar el valor de $ \\theta $ que minimiza la función de costo, existe una solución de forma cerrada, en otras palabras, una ecuación matemática que da el resultado directamente. Esto se llama la Ecuación Normal:\n",
    "\n",
    "$$\n",
    "\\hat{\\theta} = (X^\\top X)^{-1} X^\\top y\n",
    "$$\n",
    "\n",
    "En esta ecuación:\n",
    "- $ \\hat{\\theta} $ es el valor de $ \\theta $ que minimiza la función de costo.\n",
    "- $ y $ es el vector de valores objetivo que contiene $ y_1 $ a $ y_n $.\n",
    "\n",
    "Generemos algunos datos con apariencia lineal para probar esta ecuación:\n"
   ]
  },
  {
   "cell_type": "code",
   "execution_count": 11,
   "metadata": {},
   "outputs": [],
   "source": [
    "import numpy as np\n",
    "\n",
    "np.random.seed(42)  # to make this code example reproducible\n",
    "m = 100  # number of instances\n",
    "X = 2 * np.random.rand(m, 1)  # column vector\n",
    "y = 4 + 3 * X + np.random.randn(m, 1)  # column vector"
   ]
  },
  {
   "cell_type": "code",
   "execution_count": 12,
   "metadata": {},
   "outputs": [
    {
     "data": {
      "image/png": "[encoded data removed]",
      "text/plain": [
       "<Figure size 600x400 with 1 Axes>"
      ]
     },
     "metadata": {},
     "output_type": "display_data"
    }
   ],
   "source": [
    "import matplotlib.pyplot as plt\n",
    "\n",
    "plt.figure(figsize=(6, 4))\n",
    "plt.plot(X, y, \"b.\")\n",
    "plt.xlabel(\"$x_1$\")\n",
    "plt.ylabel(\"$y$\", rotation=0)\n",
    "plt.axis([0, 2, 0, 15])\n",
    "plt.grid()\n",
    "save_fig(\"generated_data_plot\")\n",
    "plt.show()"
   ]
  },
  {
   "cell_type": "markdown",
   "metadata": {},
   "source": [
    "Ahora vamos a computar $\\hat{\\mathbf{\\theta}}$ usando la Ecuación Normal. Vamos a utilizar la función inv() del módulo de álgebra lineal de Numpy (np.linalg) para copmutar la inversa de una matriz, y el método dot() para la multiplicación matricial: "
   ]
  },
  {
   "cell_type": "code",
   "execution_count": 13,
   "metadata": {},
   "outputs": [],
   "source": [
    "\n",
    "from sklearn.preprocessing import add_dummy_feature\n",
    "\n",
    "X_b = add_dummy_feature(X)  # add x0 = 1 to each instance\n",
    "theta_best = np.linalg.inv(X_b.T @ X_b) @ X_b.T @ y # The @ operator performs matrix multiplication\n",
    "                                                    # If A and B are NumPy arrays, then A @ B is equivalent to np.matmul(A, B)"
   ]
  },
  {
   "cell_type": "markdown",
   "metadata": {},
   "source": [
    "La ecuación que usamos para generar la data es $y= 4+3x_1 +$ $ruido$ $gausiano$. Veamos qué encontró la ecuación:"
   ]
  },
  {
   "cell_type": "code",
   "execution_count": 14,
   "metadata": {},
   "outputs": [
    {
     "data": {
      "text/plain": [
       "array([[4.21509616],\n",
       "       [2.77011339]])"
      ]
     },
     "execution_count": 14,
     "metadata": {},
     "output_type": "execute_result"
    }
   ],
   "source": [
    "theta_best"
   ]
  },
  {
   "cell_type": "markdown",
   "metadata": {},
   "source": [
    "Habríamos esperado $\\theta_0 = 4$ y $\\theta_1 = 3$ en lugar de $\\theta_0 = 4,215$ y $\\theta_1=\n",
    "2.770$. Lo suficientemente cerca, pero el ruido hizo imposible recuperar los parámetos exactos de la función original. Cuanto más pequeño y ruidoso sea el conjunto de datos, más difícil se vuelve.\n",
    "\n",
    "Ahora podemos hacer predicciones usando $\\hat{\\mathbf{\\theta}}$:"
   ]
  },
  {
   "cell_type": "code",
   "execution_count": 15,
   "metadata": {},
   "outputs": [
    {
     "data": {
      "text/plain": [
       "array([[4.21509616],\n",
       "       [9.75532293]])"
      ]
     },
     "execution_count": 15,
     "metadata": {},
     "output_type": "execute_result"
    }
   ],
   "source": [
    "X_new = np.array([[0], [2]])\n",
    "X_new_b = add_dummy_feature(X_new)  # add x0 = 1 to each instance\n",
    "y_predict = X_new_b @ theta_best\n",
    "y_predict"
   ]
  },
  {
   "cell_type": "markdown",
   "metadata": {},
   "source": [
    "Vamos a graficar las predicciones del modelo"
   ]
  },
  {
   "cell_type": "code",
   "execution_count": 16,
   "metadata": {},
   "outputs": [
    {
     "data": {
      "image/png": "[encoded data removed]",
      "text/plain": [
       "<Figure size 600x400 with 1 Axes>"
      ]
     },
     "metadata": {},
     "output_type": "display_data"
    }
   ],
   "source": [
    "import matplotlib.pyplot as plt\n",
    "\n",
    "plt.figure(figsize=(6, 4))  # extra code – not needed, just formatting\n",
    "plt.plot(X_new, y_predict, \"r-\", label=\"Predictions\")\n",
    "plt.plot(X, y, \"b.\")\n",
    "\n",
    "# extra code – beautifies and saves Figure 4–2\n",
    "plt.xlabel(\"$x_1$\")\n",
    "plt.ylabel(\"$y$\", rotation=0)\n",
    "plt.axis([0, 2, 0, 15])\n",
    "plt.grid()\n",
    "plt.legend(loc=\"upper left\")\n",
    "save_fig(\"linear_model_predictions_plot\")\n",
    "\n",
    "plt.show()"
   ]
  },
  {
   "cell_type": "markdown",
   "metadata": {},
   "source": [
    "Realizar una regresión lineal utilizando Scikit-Learn es relativamente sencillo:"
   ]
  },
  {
   "cell_type": "code",
   "execution_count": 17,
   "metadata": {},
   "outputs": [
    {
     "data": {
      "text/plain": [
       "(array([4.21509616]), array([[2.77011339]]))"
      ]
     },
     "execution_count": 17,
     "metadata": {},
     "output_type": "execute_result"
    }
   ],
   "source": [
    "from sklearn.linear_model import LinearRegression\n",
    "\n",
    "lin_reg = LinearRegression()\n",
    "lin_reg.fit(X, y)\n",
    "lin_reg.intercept_, lin_reg.coef_"
   ]
  },
  {
   "cell_type": "code",
   "execution_count": 19,
   "metadata": {},
   "outputs": [
    {
     "data": {
      "text/plain": [
       "array([[4.21509616],\n",
       "       [9.75532293]])"
      ]
     },
     "execution_count": 19,
     "metadata": {},
     "output_type": "execute_result"
    }
   ],
   "source": [
    "lin_reg.predict(X_new)"
   ]
  },
  {
   "cell_type": "markdown",
   "metadata": {},
   "source": [
    "Observe que Scikit-Learn separa el término de sesgo (intercept_) de la característica\n",
    "pesos (coef_). La clase LinearRegression se basa en la función scipy.linalg.lstsq() (el nombre significa “mínimos cuadrados”), a la que puedes llamar directamente:"
   ]
  },
  {
   "cell_type": "code",
   "execution_count": 20,
   "metadata": {},
   "outputs": [
    {
     "data": {
      "text/plain": [
       "array([[4.21509616],\n",
       "       [2.77011339]])"
      ]
     },
     "execution_count": 20,
     "metadata": {},
     "output_type": "execute_result"
    }
   ],
   "source": [
    "theta_best_svd, residuals, rank, s = np.linalg.lstsq(X_b, y, rcond=1e-6)\n",
    "theta_best_svd"
   ]
  },
  {
   "cell_type": "markdown",
   "metadata": {},
   "source": [
    "Esta función calcula **$\\mathbf{\\hat{\\theta} = X^+ y}$**, donde **$\\mathbf{X^+}$** es la pseudoinversa de **$\\mathbf{X}$** (específicamente, la inversa de Moore-Penrose). Puedes usar `np.linalg.pinv()` para calcular la pseudoinversa directamente:\n"
   ]
  },
  {
   "cell_type": "code",
   "execution_count": 21,
   "metadata": {},
   "outputs": [
    {
     "data": {
      "text/plain": [
       "array([[4.21509616],\n",
       "       [2.77011339]])"
      ]
     },
     "execution_count": 21,
     "metadata": {},
     "output_type": "execute_result"
    }
   ],
   "source": [
    "np.linalg.pinv(X_b) @ y"
   ]
  },
  {
   "cell_type": "markdown",
   "metadata": {},
   "source": [
    "La pseudoinversa se calcula utilizando una técnica estándar de factorización de matrices llamada *Descomposición en Valores Singulares* (SVD) que puede descomponer la matriz del conjunto de entrenamiento $\\mathbf{X}$ en la multiplicación de tres matrices $\\mathbf{U \\Sigma V^\\top}$ (ver `numpy.linalg.svd()`). La pseudoinversa se calcula como $\\mathbf{X^+ = V \\Sigma^+ U^\\top}$. Para calcular la matriz $\\mathbf{\\Sigma^+}$, el algoritmo toma $\\mathbf{\\Sigma}$ y establece en cero todos los valores menores que un pequeño valor umbral, luego reemplaza todos los valores no nulos con sus inversos, y finalmente transpone la matriz resultante. Este enfoque es más eficiente que calcular la Ecuación Normal, además maneja bien los casos extremos: de hecho, la Ecuación Normal puede no funcionar si la matriz $\\mathbf{X^\\top X}$ no es invertible (es decir, singular), como si $m < n$ o si algunas características son redundantes, pero la pseudoinversa siempre está definida.\n",
    "\n"
   ]
  },
  {
   "cell_type": "markdown",
   "metadata": {},
   "source": [
    "### Complejidad Computacional"
   ]
  },
  {
   "cell_type": "markdown",
   "metadata": {},
   "source": [
    "La Ecuación Normal calcula la inversa de $\\mathbf{X}^{\\top}\\mathbf{X}$, que es una matriz de $(n + 1) \\times (n + 1)$ (donde $n$ es el número de características). La complejidad computacional de invertir dicha matriz es típicamente de alrededor de $O(n^{2.4})$ a $O(n^{3})$, dependiendo de la implementación. En otras palabras, si duplicas el número de características, multiplicas el tiempo de cálculo aproximadamente por $2^{2.4} = 5.3$ a $2^{3} = 8$. \n",
    "\n",
    "El enfoque de SVD utilizado por la clase `LinearRegression` de Scikit-Learn es de aproximadamente $O(n^{2})$. Si duplicas el número de características, multiplicas el tiempo de cálculo aproximadamente por $4$.\n",
    "\n",
    "> **Advertencia**\n",
    "> Tanto la Ecuación Normal como el enfoque SVD se vuelven muy lentos cuando el número de características crece mucho (por ejemplo, 100,000). En el lado positivo, ambos son lineales con respecto al número de instancias en el conjunto de entrenamiento (son $O(m)$), por lo que manejan eficientemente conjuntos de entrenamiento grandes, siempre y cuando puedan caber en memoria.\n",
    "\n",
    " Además, una vez que has entrenado tu modelo de Regresión Lineal (usando la Ecuación Normal o cualquier otro algoritmo), las predicciones son muy rápidas: la complejidad computacional es lineal con respecto tanto al número de instancias sobre las que quieres hacer predicciones como al número de características. En otras palabras, hacer predicciones sobre el doble de instancias (o el doble de características) tomará aproximadamente el doble de tiempo.\n",
    "\n",
    " Ahora veremos una manera muy diferente de entrenar un modelo de Regresión Lineal, que es más adecuada para casos donde hay un gran número de características o demasiadas instancias de entrenamiento para caber en memoria."
   ]
  },
  {
   "cell_type": "markdown",
   "metadata": {},
   "source": [
    "## Descenso de Gradiente"
   ]
  },
  {
   "cell_type": "markdown",
   "metadata": {},
   "source": [
    "El Descenso de Gradiente es un algoritmo de optimización genérico capaz de encontrar soluciones óptimas para una amplia gama de problemas. La idea general del Descenso de Gradiente es ajustar los parámetros iterativamente para minimizar una función de costo.\n",
    "\n",
    "Supongamos que estás perdido en las montañas en una densa niebla, y solo puedes sentir la pendiente del suelo bajo tus pies. Una buena estrategia para llegar al fondo del valle rápidamente es ir cuesta abajo en la dirección de la pendiente más pronunciada. Esto es exactamente lo que hace el Descenso de Gradiente: mide el gradiente local de la función de error con respecto al vector de parámetros $\\mathbf{\\theta}$, y va en la dirección del gradiente descendente. ¡Una vez que el gradiente es cero, has alcanzado un mínimo!\n",
    "\n",
    "Concretamente, comienzas llenando $\\mathbf{\\theta}$ con valores aleatorios (esto se llama inicialización aleatoria). Luego lo mejoras gradualmente, dando un paso a la vez, cada paso intentando disminuir la función de costo (por ejemplo, el MSE), hasta que el algoritmo converge a un mínimo.\n"
   ]
  },
  {
   "attachments": {
    "image.png": {
     "image/png": "[encoded data removed]"
    }
   },
   "cell_type": "markdown",
   "metadata": {},
   "source": [
    "![image.png](attachment:image.png)\n",
    "\n",
    "*En esta representación de Gradient Descent, los parámetros del modelo se inicializan aleatoriamente y se modifican repetidamente para minimizar la función de costos; El tamaño del paso de aprendizaje es proporcional a la pendiente de la función de costo, por lo que los pasos se hacen gradualmente más pequeños a medida que los parámetros se acercan al mínimo.*"
   ]
  },
  {
   "cell_type": "markdown",
   "metadata": {},
   "source": []
  },
  {
   "cell_type": "code",
   "execution_count": null,
   "metadata": {},
   "outputs": [],
   "source": []
  },
  {
   "cell_type": "code",
   "execution_count": null,
   "metadata": {},
   "outputs": [],
   "source": []
  },
  {
   "cell_type": "code",
   "execution_count": null,
   "metadata": {},
   "outputs": [],
   "source": []
  },
  {
   "cell_type": "code",
   "execution_count": null,
   "metadata": {},
   "outputs": [],
   "source": []
  },
  {
   "cell_type": "code",
   "execution_count": null,
   "metadata": {},
   "outputs": [],
   "source": []
  },
  {
   "cell_type": "code",
   "execution_count": null,
   "metadata": {},
   "outputs": [],
   "source": []
  },
  {
   "cell_type": "code",
   "execution_count": null,
   "metadata": {},
   "outputs": [],
   "source": []
  },
  {
   "cell_type": "code",
   "execution_count": null,
   "metadata": {},
   "outputs": [],
   "source": []
  },
  {
   "cell_type": "markdown",
   "metadata": {},
   "source": [
    "## Notas"
   ]
  },
  {
   "cell_type": "markdown",
   "metadata": {},
   "source": [
    "$\\textbf{[1]}$ \n",
    "\n",
    "En machine learning, el Root Mean Square Error (RMSE) se traduce al español como Error Cuadrático Medio de la Raíz. Es una métrica que se utiliza comúnmente para evaluar la precisión de un modelo de regresión. Se calcula como la raíz cuadrada de la media de los errores al cuadrado entre los valores predichos por el modelo y los valores reales del conjunto de datos.\n",
    "\n",
    "En términos matemáticos, el RMSE se define como:\n",
    "\n",
    "$$ \\text{RMSE} = \\sqrt{\\frac{1}{m} \\sum_{i=1}^{m} (y_i - \\hat{y}_i)^2} $$\n",
    "\n",
    "donde:\n",
    "- $ m $ es el número de ejemplos en el conjunto de datos.\n",
    "- $ y_i $ son los valores reales del objetivo para el i-ésimo ejemplo.\n",
    "- $ \\hat{y}_i $ son los valores predichos por el modelo para el i-ésimo ejemplo.\n",
    "\n",
    "\n",
    "\n",
    "La ecuación del Mean Squared Error (MSE) para evaluar un modelo de regresión es simplemente:\n",
    "\n",
    "$$ \\text{MSE} = \\frac{1}{m} \\sum_{i=1}^{m} (y_i - \\hat{y}_i)^2 $$\n",
    "\n",
    "\n",
    "El MSE calcula el promedio de los cuadrados de los errores entre las predicciones del modelo ($ \\hat{y}_i $) y los valores reales ($ y_i $). Es una medida de la calidad de las predicciones del modelo, donde valores más bajos indican un mejor ajuste del modelo a los datos observados.\n",
    "\n",
    "\n",
    "\n",
    "La principal diferencia entre RMSE y Mean Squared Error (MSE) radica en la interpretación de la métrica resultante:\n",
    "- **MSE**: Es simplemente la media de los errores al cuadrado entre los valores predichos y los valores reales, sin la raíz cuadrada. Por lo tanto, MSE es más sensible a valores atípicos (outliers) en los datos, ya que los errores más grandes contribuyen de manera proporcionalmente mayor a la métrica.\n",
    "- **RMSE**: Al tomar la raíz cuadrada del MSE, el RMSE proporciona una medida de error que está en la misma unidad que la variable objetivo original. Esto hace que sea más interpretable, ya que representa el error promedio en la misma escala que los datos originales, además penaliza de manera más significativa los errores grandes en comparación con el MSE.\n",
    "\n"
   ]
  }
 ],
 "metadata": {
  "kernelspec": {
   "display_name": "Python 3",
   "language": "python",
   "name": "python3"
  },
  "language_info": {
   "codemirror_mode": {
    "name": "ipython",
    "version": 3
   },
   "file_extension": ".py",
   "mimetype": "text/x-python",
   "name": "python",
   "nbconvert_exporter": "python",
   "pygments_lexer": "ipython3",
   "version": "3.11.2"
  }
 },
 "nbformat": 4,
 "nbformat_minor": 2
}
